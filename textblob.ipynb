{
 "cells": [
  {
   "cell_type": "code",
   "execution_count": 2,
   "metadata": {},
   "outputs": [],
   "source": [
    "from textblob import TextBlob\n",
    "from textblob import Word"
   ]
  },
  {
   "cell_type": "code",
   "execution_count": 4,
   "metadata": {},
   "outputs": [
    {
     "data": {
      "text/plain": [
       "['the most common medium of exchange; functions as legal tender',\n",
       " 'wealth reckoned in terms of money',\n",
       " 'the official currency issued by a government or national bank']"
      ]
     },
     "execution_count": 4,
     "metadata": {},
     "output_type": "execute_result"
    }
   ],
   "source": [
    "Word(\"money\").definitions"
   ]
  },
  {
   "cell_type": "code",
   "execution_count": 6,
   "metadata": {},
   "outputs": [],
   "source": [
    "train = [\n",
    "    (\"I love this sandwich.\", \"pos\"),\n",
    "    (\"this is an amazing place!\", \"pos\"),\n",
    "    (\"I feel very good about these beers.\", \"pos\"),\n",
    "    (\"this is my best work.\", \"pos\"),\n",
    "    (\"what an awesome view\", \"pos\"),\n",
    "    (\"I do not like this restaurant\", \"neg\"),\n",
    "    (\"I am tired of this stuff.\", \"neg\"),\n",
    "    (\"I can't deal with this\", \"neg\"),\n",
    "    (\"he is my sworn enemy!\", \"neg\"),\n",
    "    (\"my boss is horrible.\", \"neg\"),\n",
    "]\n",
    "test = [\n",
    "    (\"the beer was good.\", \"pos\"),\n",
    "    (\"I do not enjoy my job\", \"neg\"),\n",
    "    (\"I ain't feeling dandy today.\", \"neg\"),\n",
    "    (\"I feel amazing!\", \"pos\"),\n",
    "    (\"Gary is a friend of mine.\", \"pos\"),\n",
    "    (\"I can't believe I'm doing this.\", \"neg\"),\n",
    "]"
   ]
  },
  {
   "cell_type": "code",
   "execution_count": 7,
   "metadata": {},
   "outputs": [],
   "source": [
    "from textblob.classifiers import NaiveBayesClassifier\n",
    "cl = NaiveBayesClassifier(train)"
   ]
  },
  {
   "cell_type": "code",
   "execution_count": 10,
   "metadata": {},
   "outputs": [
    {
     "data": {
      "text/plain": [
       "'neg'"
      ]
     },
     "execution_count": 10,
     "metadata": {},
     "output_type": "execute_result"
    }
   ],
   "source": [
    "drink = TextBlob(\"The drink is worth the money but it is not worth the hype.\", classifier=cl)\n",
    "drink.classify()"
   ]
  },
  {
   "cell_type": "code",
   "execution_count": 12,
   "metadata": {},
   "outputs": [
    {
     "data": {
      "text/plain": [
       "'neg'"
      ]
     },
     "execution_count": 12,
     "metadata": {},
     "output_type": "execute_result"
    }
   ],
   "source": [
    "feeling = TextBlob(\"I am feeling soo angry.\", classifier=cl)\n",
    "feeling.classify()"
   ]
  },
  {
   "cell_type": "code",
   "execution_count": 17,
   "metadata": {},
   "outputs": [],
   "source": [
    "sentence = (\"He is a friend of mine\")\n",
    "words = sentence.split()"
   ]
  },
  {
   "cell_type": "code",
   "execution_count": 30,
   "metadata": {},
   "outputs": [
    {
     "name": "stdout",
     "output_type": "stream",
     "text": [
      "He\n",
      "is\n",
      "a\n",
      "friend\n",
      "of\n",
      "mine\n"
     ]
    }
   ],
   "source": [
    "from textblob import Word\n",
    "for word in words:\n",
    "    x = Word(word).lemmatize()\n",
    "    print(x)"
   ]
  },
  {
   "cell_type": "code",
   "execution_count": 24,
   "metadata": {},
   "outputs": [
    {
     "data": {
      "text/plain": [
       "'Octopi'"
      ]
     },
     "execution_count": 24,
     "metadata": {},
     "output_type": "execute_result"
    }
   ],
   "source": [
    "Word('Octopi').lemmatize()"
   ]
  },
  {
   "cell_type": "code",
   "execution_count": null,
   "metadata": {},
   "outputs": [],
   "source": []
  }
 ],
 "metadata": {
  "kernelspec": {
   "display_name": "base",
   "language": "python",
   "name": "python3"
  },
  "language_info": {
   "codemirror_mode": {
    "name": "ipython",
    "version": 3
   },
   "file_extension": ".py",
   "mimetype": "text/x-python",
   "name": "python",
   "nbconvert_exporter": "python",
   "pygments_lexer": "ipython3",
   "version": "3.11.7"
  }
 },
 "nbformat": 4,
 "nbformat_minor": 2
}
